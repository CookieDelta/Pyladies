{
  "nbformat": 4,
  "nbformat_minor": 0,
  "metadata": {
    "colab": {
      "name": "Ejercicio 3.ipynb",
      "provenance": [],
      "authorship_tag": "ABX9TyPcrHWF2X4YAPbkvHiMlSd0",
      "include_colab_link": true
    },
    "kernelspec": {
      "name": "python3",
      "display_name": "Python 3"
    },
    "language_info": {
      "name": "python"
    }
  },
  "cells": [
    {
      "cell_type": "markdown",
      "metadata": {
        "id": "view-in-github",
        "colab_type": "text"
      },
      "source": [
        "<a href=\"https://colab.research.google.com/github/CookieDelta/Pyladies/blob/main/Ejercicio_3.ipynb\" target=\"_parent\"><img src=\"https://colab.research.google.com/assets/colab-badge.svg\" alt=\"Open In Colab\"/></a>"
      ]
    },
    {
      "cell_type": "code",
      "execution_count": 2,
      "metadata": {
        "colab": {
          "base_uri": "https://localhost:8080/"
        },
        "id": "Kvpr5ZwSpe2l",
        "outputId": "444c2240-dba1-4204-fe5d-ec45d92fd84d"
      },
      "outputs": [
        {
          "output_type": "stream",
          "name": "stdout",
          "text": [
            "¿Cuantas horas trabajadas ha realizado?8\n",
            "¿Cual es el costo por hora?4\n",
            "El costo total será 32.0\n"
          ]
        }
      ],
      "source": [
        "n_horas=float(input(\"¿Cuantas horas trabajadas ha realizado?\"))\n",
        "c_hora=float(input(\"¿Cual es el costo por hora?\"))\n",
        "\n",
        "costo_total=float(n_horas*c_hora)\n",
        "costostr=str(costo_total)\n",
        "print(\"El costo total será \" +costostr)"
      ]
    }
  ]
}