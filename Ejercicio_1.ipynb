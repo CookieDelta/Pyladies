{
  "nbformat": 4,
  "nbformat_minor": 0,
  "metadata": {
    "colab": {
      "name": "Ejercicio 1.ipynb",
      "provenance": [],
      "authorship_tag": "ABX9TyP5TRtlTRqVvJA3Q0WlSUuI",
      "include_colab_link": true
    },
    "kernelspec": {
      "name": "python3",
      "display_name": "Python 3"
    },
    "language_info": {
      "name": "python"
    }
  },
  "cells": [
    {
      "cell_type": "markdown",
      "metadata": {
        "id": "view-in-github",
        "colab_type": "text"
      },
      "source": [
        "<a href=\"https://colab.research.google.com/github/CookieDelta/Pyladies/blob/main/Ejercicio_1.ipynb\" target=\"_parent\"><img src=\"https://colab.research.google.com/assets/colab-badge.svg\" alt=\"Open In Colab\"/></a>"
      ]
    },
    {
      "cell_type": "code",
      "execution_count": 1,
      "metadata": {
        "colab": {
          "base_uri": "https://localhost:8080/"
        },
        "id": "-7tnAWaziWhz",
        "outputId": "3547ec60-095c-4a6b-8137-a4891f976e4f"
      },
      "outputs": [
        {
          "output_type": "stream",
          "name": "stdout",
          "text": [
            "Por favor introduzca su nombreFelipe\n",
            "¡Hola Felipe!\n"
          ]
        }
      ],
      "source": [
        "nombre=input(\"Por favor introduzca su nombre \")\n",
        "print(\"¡Hola \"+nombre+\"!\")"
      ]
    }
  ]
}