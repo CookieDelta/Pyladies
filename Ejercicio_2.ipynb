{
  "nbformat": 4,
  "nbformat_minor": 0,
  "metadata": {
    "colab": {
      "name": "Ejercicio 2.ipynb",
      "provenance": [],
      "authorship_tag": "ABX9TyMC49lSgaakVutVYmkGa1XX",
      "include_colab_link": true
    },
    "kernelspec": {
      "name": "python3",
      "display_name": "Python 3"
    },
    "language_info": {
      "name": "python"
    }
  },
  "cells": [
    {
      "cell_type": "markdown",
      "metadata": {
        "id": "view-in-github",
        "colab_type": "text"
      },
      "source": [
        "<a href=\"https://colab.research.google.com/github/CookieDelta/Pyladies/blob/main/Ejercicio_2.ipynb\" target=\"_parent\"><img src=\"https://colab.research.google.com/assets/colab-badge.svg\" alt=\"Open In Colab\"/></a>"
      ]
    },
    {
      "cell_type": "code",
      "execution_count": 18,
      "metadata": {
        "colab": {
          "base_uri": "https://localhost:8080/"
        },
        "id": "cmvsJIjGjq2K",
        "outputId": "34af53c6-1445-4a52-b34b-a268a7b519f7"
      },
      "outputs": [
        {
          "output_type": "stream",
          "name": "stdout",
          "text": [
            " (3+2)  ** 2\n",
            "------         = 0.25\n",
            " (2*5)\n"
          ]
        }
      ],
      "source": [
        "resultado=((3+2)/(2*5))**2\n",
        "astring=str(resultado)\n",
        "\n",
        "print(\" (3+2)  ** 2\")\n",
        "print(\"------         = \" +astring)\n",
        "print(\" (2*5)\")\n",
        "\n"
      ]
    }
  ]
}